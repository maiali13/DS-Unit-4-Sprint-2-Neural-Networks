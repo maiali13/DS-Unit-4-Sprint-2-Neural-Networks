{
 "cells": [
  {
   "cell_type": "markdown",
   "metadata": {
    "colab_type": "text",
    "id": "pBQsZEJmubLs"
   },
   "source": [
    "<img align=\"left\" src=\"https://lever-client-logos.s3.amazonaws.com/864372b1-534c-480e-acd5-9711f850815c-1524247202159.png\" width=200>\n",
    "<br></br>\n",
    "\n",
    "# Neural Network Framework (Keras)\n",
    "\n",
    "## *Data Science Unit 4 Sprint 2 Assignment 3*\n",
    "\n",
    "## Use the Keras Library to build a Multi-Layer Perceptron Model on the Boston Housing dataset\n",
    "\n",
    "- The Boston Housing dataset comes with the Keras library so use Keras to import it into your notebook. \n",
    "- Normalize the data (all features should have roughly the same scale)\n",
    "- Import the type of model and layers that you will need from Keras.\n",
    "- Instantiate a model object and use `model.add()` to add layers to your model\n",
    "- Since this is a regression model you will have a single output node in the final layer.\n",
    "- Use activation functions that are appropriate for this task\n",
    "- Compile your model\n",
    "- Fit your model and report its accuracy in terms of Mean Squared Error\n",
    "- Use the history object that is returned from model.fit to make graphs of the model's loss or train/validation accuracies by epoch. \n",
    "- Run this same data through a linear regression model. Which achieves higher accuracy?\n",
    "- Do a little bit of feature engineering and see how that affects your neural network model. (you will need to change your model to accept more inputs)\n",
    "- After feature engineering, which model sees a greater accuracy boost due to the new features?"
   ]
  },
  {
   "cell_type": "code",
   "execution_count": 24,
   "metadata": {
    "colab": {},
    "colab_type": "code",
    "id": "8NLTAR87uYJ-"
   },
   "outputs": [],
   "source": [
    "import pandas as pd\n",
    "import numpy as np\n",
    "import matplotlib.pyplot as plt\n",
    "\n",
    "import tensorflow as tf\n",
    "from tensorflow import keras\n",
    "from tensorflow.keras.datasets import boston_housing"
   ]
  },
  {
   "cell_type": "code",
   "execution_count": 4,
   "metadata": {},
   "outputs": [
    {
     "name": "stdout",
     "output_type": "stream",
     "text": [
      "Downloading data from https://storage.googleapis.com/tensorflow/tf-keras-datasets/boston_housing.npz\n",
      "57344/57026 [==============================] - 0s 1us/step\n"
     ]
    }
   ],
   "source": [
    "(X_train, y_train), (X_test, y_test) = boston_housing.load_data()"
   ]
  },
  {
   "cell_type": "code",
   "execution_count": 6,
   "metadata": {},
   "outputs": [
    {
     "data": {
      "text/plain": [
       "((404, 13), (102, 13), (404,), (102,))"
      ]
     },
     "execution_count": 6,
     "metadata": {},
     "output_type": "execute_result"
    }
   ],
   "source": [
    "X_train.shape, X_test.shape, y_train.shape, y_test.shape"
   ]
  },
  {
   "cell_type": "code",
   "execution_count": 5,
   "metadata": {},
   "outputs": [],
   "source": [
    "# normalize \n",
    "from sklearn.preprocessing import Normalizer\n",
    "\n",
    "trans = Normalizer().fit(X_train)\n",
    "X_train = trans.transform(X_train)\n",
    "X_test =  trans.transform(X_test)"
   ]
  },
  {
   "cell_type": "code",
   "execution_count": 8,
   "metadata": {},
   "outputs": [],
   "source": [
    "# import model and layers from keras\n",
    "from tensorflow.keras.models import Sequential\n",
    "from tensorflow.keras.layers import Dense, Flatten\n",
    "\n",
    "# instantiate model object and add layers\n",
    "# use appropriate activation functions\n",
    "# input\n",
    "model = Sequential()\n",
    "model.add(Dense(16, input_dim=13, activation='relu'))\n",
    "model.add(Dense(8, activation='relu'))\n",
    "\n",
    "# output\n",
    "# regression model = single output node\n",
    "model.add(Dense(1, activation='linear'))"
   ]
  },
  {
   "cell_type": "code",
   "execution_count": 9,
   "metadata": {},
   "outputs": [
    {
     "name": "stdout",
     "output_type": "stream",
     "text": [
      "Model: \"sequential\"\n",
      "_________________________________________________________________\n",
      "Layer (type)                 Output Shape              Param #   \n",
      "=================================================================\n",
      "dense (Dense)                (None, 16)                224       \n",
      "_________________________________________________________________\n",
      "dense_1 (Dense)              (None, 8)                 136       \n",
      "_________________________________________________________________\n",
      "dense_2 (Dense)              (None, 1)                 9         \n",
      "=================================================================\n",
      "Total params: 369\n",
      "Trainable params: 369\n",
      "Non-trainable params: 0\n",
      "_________________________________________________________________\n"
     ]
    }
   ],
   "source": [
    "# compile\n",
    "model.compile(loss='mse', optimizer='adam', metrics=['mse'])\n",
    "model.summary()"
   ]
  },
  {
   "cell_type": "code",
   "execution_count": 19,
   "metadata": {},
   "outputs": [
    {
     "name": "stdout",
     "output_type": "stream",
     "text": [
      "Epoch 1/20\n",
      "13/13 [==============================] - 0s 2ms/step - loss: 314.9346 - mse: 314.9346 - val_loss: 315.7034 - val_mse: 315.7034\n",
      "Epoch 2/20\n",
      "13/13 [==============================] - 0s 2ms/step - loss: 281.0627 - mse: 281.0627 - val_loss: 280.9657 - val_mse: 280.9657\n",
      "Epoch 3/20\n",
      "13/13 [==============================] - 0s 2ms/step - loss: 248.2992 - mse: 248.2992 - val_loss: 246.7443 - val_mse: 246.7443\n",
      "Epoch 4/20\n",
      "13/13 [==============================] - 0s 2ms/step - loss: 216.3169 - mse: 216.3169 - val_loss: 214.7812 - val_mse: 214.7812\n",
      "Epoch 5/20\n",
      "13/13 [==============================] - 0s 3ms/step - loss: 187.2832 - mse: 187.2832 - val_loss: 185.5273 - val_mse: 185.5273\n",
      "Epoch 6/20\n",
      "13/13 [==============================] - 0s 2ms/step - loss: 161.5305 - mse: 161.5305 - val_loss: 160.0778 - val_mse: 160.0778\n",
      "Epoch 7/20\n",
      "13/13 [==============================] - 0s 2ms/step - loss: 139.9312 - mse: 139.9312 - val_loss: 139.1351 - val_mse: 139.1351\n",
      "Epoch 8/20\n",
      "13/13 [==============================] - 0s 2ms/step - loss: 123.0766 - mse: 123.0766 - val_loss: 122.4146 - val_mse: 122.4146\n",
      "Epoch 9/20\n",
      "13/13 [==============================] - 0s 2ms/step - loss: 109.9260 - mse: 109.9260 - val_loss: 110.2277 - val_mse: 110.2277\n",
      "Epoch 10/20\n",
      "13/13 [==============================] - 0s 2ms/step - loss: 100.6587 - mse: 100.6587 - val_loss: 101.7437 - val_mse: 101.7437\n",
      "Epoch 11/20\n",
      "13/13 [==============================] - 0s 2ms/step - loss: 95.0203 - mse: 95.0203 - val_loss: 95.8350 - val_mse: 95.8350\n",
      "Epoch 12/20\n",
      "13/13 [==============================] - 0s 2ms/step - loss: 91.2891 - mse: 91.2891 - val_loss: 92.0556 - val_mse: 92.0556\n",
      "Epoch 13/20\n",
      "13/13 [==============================] - 0s 2ms/step - loss: 88.9991 - mse: 88.9991 - val_loss: 89.8178 - val_mse: 89.8178\n",
      "Epoch 14/20\n",
      "13/13 [==============================] - 0s 2ms/step - loss: 87.8095 - mse: 87.8095 - val_loss: 88.3733 - val_mse: 88.3733\n",
      "Epoch 15/20\n",
      "13/13 [==============================] - 0s 2ms/step - loss: 86.8721 - mse: 86.8721 - val_loss: 87.7029 - val_mse: 87.7029\n",
      "Epoch 16/20\n",
      "13/13 [==============================] - 0s 2ms/step - loss: 86.4304 - mse: 86.4304 - val_loss: 87.0085 - val_mse: 87.0085\n",
      "Epoch 17/20\n",
      "13/13 [==============================] - 0s 2ms/step - loss: 86.0383 - mse: 86.0383 - val_loss: 86.3977 - val_mse: 86.3977\n",
      "Epoch 18/20\n",
      "13/13 [==============================] - 0s 2ms/step - loss: 85.6862 - mse: 85.6862 - val_loss: 86.0742 - val_mse: 86.0742\n",
      "Epoch 19/20\n",
      "13/13 [==============================] - 0s 2ms/step - loss: 85.4319 - mse: 85.4319 - val_loss: 85.5768 - val_mse: 85.5768\n",
      "Epoch 20/20\n",
      "13/13 [==============================] - 0s 2ms/step - loss: 85.1207 - mse: 85.1207 - val_loss: 85.3071 - val_mse: 85.3071\n"
     ]
    }
   ],
   "source": [
    "# fit\n",
    "# report its accuracy in term of Mean Squared Error\n",
    "history = model.fit(X_train, y_train, epochs=20, validation_data=(X_test,y_test))"
   ]
  },
  {
   "cell_type": "code",
   "execution_count": 20,
   "metadata": {},
   "outputs": [
    {
     "data": {
      "text/plain": [
       "84.92350761253687"
      ]
     },
     "execution_count": 20,
     "metadata": {},
     "output_type": "execute_result"
    }
   ],
   "source": [
    "# train data error\n",
    "from sklearn.metrics import mean_squared_error\n",
    "predictions = model.predict(X_train)\n",
    "mean_squared_error(y_train, predictions)"
   ]
  },
  {
   "cell_type": "code",
   "execution_count": 21,
   "metadata": {},
   "outputs": [
    {
     "data": {
      "text/plain": [
       "85.3070974279718"
      ]
     },
     "execution_count": 21,
     "metadata": {},
     "output_type": "execute_result"
    }
   ],
   "source": [
    "# test data error\n",
    "mean_squared_error(y_test, model.predict(X_test))"
   ]
  },
  {
   "cell_type": "code",
   "execution_count": 22,
   "metadata": {},
   "outputs": [
    {
     "data": {
      "text/plain": [
       "dict_keys(['loss', 'mse', 'val_loss', 'val_mse'])"
      ]
     },
     "execution_count": 22,
     "metadata": {},
     "output_type": "execute_result"
    }
   ],
   "source": [
    "history.history.keys()"
   ]
  },
  {
   "cell_type": "code",
   "execution_count": 27,
   "metadata": {},
   "outputs": [
    {
     "data": {
      "image/png": "[encoded data removed]",
      "text/plain": [
       "<Figure size 432x288 with 1 Axes>"
      ]
     },
     "metadata": {
      "needs_background": "light"
     },
     "output_type": "display_data"
    }
   ],
   "source": [
    "# Plot training & validation loss values\n",
    "plt.plot(history.history['loss'], label='Training Loss')\n",
    "plt.plot(history.history['val_loss'], label='Validation Loss')\n",
    "plt.xlabel('Epochs')\n",
    "plt.ylabel('MSE')\n",
    "plt.legend();"
   ]
  },
  {
   "cell_type": "code",
   "execution_count": 32,
   "metadata": {},
   "outputs": [],
   "source": [
    "# put this data in a linear regression model to compare\n",
    "from sklearn.linear_model import LinearRegression\n",
    "\n",
    "lmodel = LinearRegression()\n",
    "lmodel.fit(X_train, y_train)\n",
    "lmodel_pred = lmodel.predict(X_train)"
   ]
  },
  {
   "cell_type": "code",
   "execution_count": 33,
   "metadata": {},
   "outputs": [
    {
     "data": {
      "text/plain": [
       "22.77423909605731"
      ]
     },
     "execution_count": 33,
     "metadata": {},
     "output_type": "execute_result"
    }
   ],
   "source": [
    "# training data error \n",
    "mean_squared_error(y_train, lmodel_pred)\n",
    "# much better performance than my NN..."
   ]
  },
  {
   "cell_type": "markdown",
   "metadata": {
    "colab_type": "text",
    "id": "SfcFnOONyuNm"
   },
   "source": [
    "## Use the Keras Library to build an image recognition network using the Fashion-MNIST dataset (also comes with keras)\n",
    "\n",
    "- Load and preprocess the image data similar to how we preprocessed the MNIST data in class.\n",
    "- Make sure to one-hot encode your category labels\n",
    "- The number of nodes in your output layer should equal the number of classes you want to predict for Fashion-MNIST.\n",
    "- Try different hyperparameters. What is the highest accuracy that you are able to achieve.\n",
    "- Use the history object that is returned from model.fit to make graphs of the model's loss or train/validation accuracies by epoch. \n",
    "- Remember that neural networks fall prey to randomness so you may need to run your model multiple times (or use Cross Validation) in order to tell if a change to a hyperparameter is truly producing better results."
   ]
  },
  {
   "cell_type": "code",
   "execution_count": null,
   "metadata": {
    "colab": {},
    "colab_type": "code",
    "id": "szi6-IpuzaH1"
   },
   "outputs": [],
   "source": [
    "##### Your Code Here #####"
   ]
  },
  {
   "cell_type": "markdown",
   "metadata": {
    "colab_type": "text",
    "id": "zv_3xNMjzdLI"
   },
   "source": [
    "## Stretch Goals:\n",
    "\n",
    "- Use Hyperparameter Tuning to make the accuracy of your models as high as possible. (error as low as possible)\n",
    "- Use Cross Validation techniques to get more consistent results with your model.\n",
    "- Use GridSearchCV to try different combinations of hyperparameters. \n",
    "- Start looking into other types of Keras layers for CNNs and RNNs maybe try and build a CNN model for fashion-MNIST to see how the results compare."
   ]
  }
 ],
 "metadata": {
  "colab": {
   "name": "LS_DS_433_Keras_Assignment.ipynb",
   "provenance": [],
   "version": "0.3.2"
  },
  "kernelspec": {
   "display_name": "U4NN (Python3)",
   "language": "python",
   "name": "u4nn"
  },
  "language_info": {
   "codemirror_mode": {
    "name": "ipython",
    "version": 3
   },
   "file_extension": ".py",
   "mimetype": "text/x-python",
   "name": "python",
   "nbconvert_exporter": "python",
   "pygments_lexer": "ipython3",
   "version": "3.7.0"
  }
 },
 "nbformat": 4,
 "nbformat_minor": 4
}
